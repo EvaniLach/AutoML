{
 "cells": [
  {
   "cell_type": "code",
   "execution_count": 128,
   "metadata": {
    "collapsed": true
   },
   "outputs": [],
   "source": [
    "import pandas as pd\n",
    "import glob\n",
    "import os\n",
    "import matplotlib.pyplot as plt\n",
    "import scipy.stats as st\n",
    "import numpy as np\n"
   ]
  },
  {
   "cell_type": "code",
   "execution_count": 130,
   "outputs": [],
   "source": [
    "# Path to folder with all files\n",
    "path = r'C:\\Users\\evani\\OneDrive\\AI leiden\\Year 2\\Semester 1\\AutoML\\AutoML\\results\\rs bad range'\n",
    "\n",
    "def get_average2(path):\n",
    "    li = []\n",
    "    all_files = glob.glob(os.path.join(path , \"*.csv\"))\n",
    "\n",
    "    for filename in all_files:\n",
    "        df = pd.read_csv(filename, index_col=None, header=0)\n",
    "        li.append(df['0'].values)\n",
    "\n",
    "    average = [sum(col) / float(len(col)) for col in zip(*li)]\n",
    "\n",
    "    return average"
   ],
   "metadata": {
    "collapsed": false,
    "pycharm": {
     "name": "#%%\n"
    }
   }
  },
  {
   "cell_type": "code",
   "execution_count": 119,
   "outputs": [],
   "source": [
    "# Put function below here\n",
    "list_df = pd.DataFrame(get_average(path), columns=[\"average loss\"])\n",
    "# Put in location of folder to save file in and change name of file\n",
    "list_df.to_csv(r'C:\\Users\\evani\\OneDrive\\AI leiden\\Year 2\\Semester 1\\AutoML\\AutoML\\results\\test.csv', index=False, decimal=',')"
   ],
   "metadata": {
    "collapsed": false,
    "pycharm": {
     "name": "#%%\n"
    }
   }
  },
  {
   "cell_type": "code",
   "execution_count": 131,
   "outputs": [],
   "source": [
    "path = r\"C:\\Users\\evani\\OneDrive\\AI leiden\\Year 2\\Semester 1\\AutoML\\new plots\\new results\\E2_GR\"\n",
    "path1 = r\"C:\\Users\\evani\\OneDrive\\AI leiden\\Year 2\\Semester 1\\AutoML\\new plots\\new results\\E2_GR_TPE\"\n",
    "\n",
    "path2 = r\"C:\\Users\\evani\\OneDrive\\AI leiden\\Year 2\\Semester 1\\AutoML\\new plots\\new results\\E2_BR_RS\"\n",
    "path3 = r\"C:\\Users\\evani\\OneDrive\\AI leiden\\Year 2\\Semester 1\\AutoML\\new plots\\new results\\E2_BR_TPE\"\n",
    "\n",
    "path4 = r\"C:\\Users\\evani\\OneDrive\\AI leiden\\Year 2\\Semester 1\\AutoML\\new plots\\new results\\E2_I_RS\"\n",
    "path5 = r\"C:\\Users\\evani\\OneDrive\\AI leiden\\Year 2\\Semester 1\\AutoML\\new plots\\new results\\E2_I_TPE\"\n",
    "\n",
    "path6 = r\"C:\\Users\\evani\\OneDrive\\AI leiden\\Year 2\\Semester 1\\AutoML\\new plots\\new results\\0.25\"\n",
    "path7 = r\"C:\\Users\\evani\\OneDrive\\AI leiden\\Year 2\\Semester 1\\AutoML\\new plots\\new results\\0.5\"\n",
    "path8 = r\"C:\\Users\\evani\\OneDrive\\AI leiden\\Year 2\\Semester 1\\AutoML\\new plots\\new results\\0.75\"\n",
    "path9 = r\"C:\\Users\\evani\\OneDrive\\AI leiden\\Year 2\\Semester 1\\AutoML\\new plots\\new results\\1\"\n",
    "\n",
    "def get_average(path):\n",
    "    li = []\n",
    "    all_files = glob.glob(os.path.join(path , \"*.csv\"))\n",
    "\n",
    "    for filename in os.listdir(path):\n",
    "        df = pd.read_csv(path+\"/\"+filename, index_col=None, header=0)\n",
    "        li.append(df['0'].values)\n",
    "\n",
    "    average = [sum(col) / float(len(col)) for col in zip(*li)]\n",
    "    return average,li\n",
    "\n",
    "avergae_loss, loss = get_average(path)\n",
    "avergae_loss_tpe, loss_tpe = get_average(path1)\n",
    "\n",
    "ci = 2.576 * np.std(avergae_loss)/np.sqrt(len(avergae_loss))\n",
    "ci_tpe = 2.576 * np.std(avergae_loss_tpe)/np.sqrt(len(avergae_loss_tpe))\n",
    "\n",
    "\n",
    "avergae_loss_br, loss_br = get_average(path2)\n",
    "avergae_loss_tpe_br, loss_tpe_br = get_average(path3)\n",
    "\n",
    "ci_br = 2.576 * np.std(avergae_loss_br)/np.sqrt(len(avergae_loss_br))\n",
    "ci_tpe_br = 2.576 * np.std(avergae_loss_tpe_br)/np.sqrt(len(avergae_loss_tpe_br))\n",
    "\n",
    "avergae_loss_i, loss_i = get_average(path4)\n",
    "avergae_loss_tpe_i, loss_tpe_i = get_average(path5)\n",
    "\n",
    "ci_i = 2.576 * np.std(avergae_loss_i)/np.sqrt(len(avergae_loss_i))\n",
    "ci_tpe_i = 2.576 * np.std(avergae_loss_tpe_i)/np.sqrt(len(avergae_loss_tpe_i))\n",
    "\n",
    "avergae_loss_1, loss_1 = get_average(path6)\n",
    "avergae_loss_2, loss_2 = get_average(path7)\n",
    "avergae_loss_3, loss_3 = get_average(path8)\n",
    "avergae_loss_4, loss_4 = get_average(path9)\n",
    "\n",
    "ci_1 = 2.576 * np.std(avergae_loss_1)/np.sqrt(len(avergae_loss_1))\n",
    "ci_2 = 2.576 * np.std(avergae_loss_2)/np.sqrt(len(avergae_loss_2))\n",
    "ci_3 = 2.576 * np.std(avergae_loss_3)/np.sqrt(len(avergae_loss_3))\n",
    "ci_4 = 2.576 * np.std(avergae_loss_4)/np.sqrt(len(avergae_loss_4))"
   ],
   "metadata": {
    "collapsed": false,
    "pycharm": {
     "name": "#%%\n"
    }
   }
  },
  {
   "cell_type": "code",
   "execution_count": null,
   "outputs": [],
   "source": [
    "fig,axs = plt.subplots(figsize=(20,10))\n",
    "\n",
    "axs.plot(range(len(avergae_loss)),avergae_loss,label='Random search',linewidth=1)\n",
    "axs.fill_between(range(len(avergae_loss)), avergae_loss-ci,avergae_loss+ci ,color='b', alpha=.2)\n",
    "axs.plot(range(len(avergae_loss_tpe)),avergae_loss_tpe,label='TPE',linewidth=1)\n",
    "axs.fill_between(range(len(avergae_loss_tpe)), avergae_loss_tpe-ci_tpe,avergae_loss_tpe+ci_tpe ,color='r', alpha=.2)\n",
    "axs.set_title(\"Good Range for Random Search and TPE\",fontsize=20)\n",
    "axs.set_xlabel('Function evaluations',fontsize=20)\n",
    "axs.set_ylabel('Loss',fontsize=20)\n",
    "axs.legend(fontsize=\"xx-large\")\n",
    "plt.show()\n",
    "\n",
    "fig,axs = plt.subplots(figsize=(20,10))\n",
    "\n",
    "axs.plot(range(len(avergae_loss_br)),avergae_loss_br,label='Random search',linewidth=1)\n",
    "axs.fill_between(range(len(avergae_loss_br)), avergae_loss_br-ci_br,avergae_loss_br+ci_br ,color='b', alpha=.2)\n",
    "axs.plot(range(len(avergae_loss_tpe_br)),avergae_loss_tpe_br,label='TPE',linewidth=1)\n",
    "axs.fill_between(range(len(avergae_loss_tpe_br)), avergae_loss_tpe_br-ci_tpe_br,avergae_loss_tpe_br+ci_tpe_br ,color='r', alpha=.2)\n",
    "axs.set_title(\"Bad Range for Random Search and TPE\",fontsize=20)\n",
    "axs.set_xlabel('Function evaluations',fontsize=20)\n",
    "axs.set_ylabel('Loss',fontsize=20)\n",
    "axs.legend(fontsize=\"xx-large\")\n",
    "plt.show()\n",
    "\n",
    "fig,axs = plt.subplots(figsize=(20,10))\n",
    "\n",
    "axs.plot(range(len(avergae_loss_i)),avergae_loss_i,label='Random search',linewidth=1)\n",
    "axs.fill_between(range(len(avergae_loss_i)), avergae_loss_i-ci_i,avergae_loss_i+ci_i ,color='b', alpha=.2)\n",
    "axs.plot(range(len(avergae_loss_tpe_i)),avergae_loss_tpe_i,label='TPE',linewidth=1)\n",
    "axs.fill_between(range(len(avergae_loss_tpe_i)), avergae_loss_tpe_i-ci_tpe_i,avergae_loss_tpe_i+ci_tpe_i ,color='r', alpha=.2)\n",
    "axs.set_title(\"Interactive for Random Search and TPE\",fontsize=20)\n",
    "axs.set_xlabel('Function evaluations',fontsize=20)\n",
    "axs.set_ylabel('Loss',fontsize=20)\n",
    "axs.legend(fontsize=\"xx-large\")\n",
    "plt.show()\n",
    "\n",
    "fig,axs = plt.subplots(figsize=(20,10))\n",
    "\n",
    "axs.plot(range(len(avergae_loss_1)),avergae_loss_1,label='Gamma = 0.25',linewidth=1)\n",
    "axs.fill_between(range(len(avergae_loss_1)), avergae_loss_1-ci_1,avergae_loss_1+ci_1 ,color='b', alpha=.2)\n",
    "\n",
    "axs.plot(range(len(avergae_loss_2)),avergae_loss_2,label='Gamma = 0.5',linewidth=1 ,color='r')\n",
    "axs.fill_between(range(len(avergae_loss_2)), avergae_loss_2-ci_2,avergae_loss_2+ci_2 ,color='r', alpha=.2)\n",
    "\n",
    "axs.plot(range(len(avergae_loss_3)),avergae_loss_3,label='Gamma = 0.75',linewidth=1,color='y')\n",
    "axs.fill_between(range(len(avergae_loss_3)), avergae_loss_3-ci_3,avergae_loss_3+ci_3 ,color='y', alpha=.2)\n",
    "\n",
    "axs.plot(range(len(avergae_loss_4)),avergae_loss_4,label='Gamma = 1',linewidth=1,color='g')\n",
    "axs.fill_between(range(len(avergae_loss_4)), avergae_loss_4-ci_4,avergae_loss_4+ci_4 ,color='g', alpha=.2)\n",
    "\n",
    "axs.set_title(\"Different values of gamma for good range\",fontsize=20)\n",
    "axs.set_xlabel('Function evaluations',fontsize=20)\n",
    "axs.set_ylabel('Loss',fontsize=20)\n",
    "axs.legend(fontsize=\"xx-large\")\n",
    "plt.show()"
   ],
   "metadata": {
    "collapsed": false,
    "pycharm": {
     "name": "#%%\n"
    }
   }
  }
 ],
 "metadata": {
  "kernelspec": {
   "display_name": "Python 3",
   "language": "python",
   "name": "python3"
  },
  "language_info": {
   "codemirror_mode": {
    "name": "ipython",
    "version": 2
   },
   "file_extension": ".py",
   "mimetype": "text/x-python",
   "name": "python",
   "nbconvert_exporter": "python",
   "pygments_lexer": "ipython2",
   "version": "2.7.6"
  }
 },
 "nbformat": 4,
 "nbformat_minor": 0
}