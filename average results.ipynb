{
 "cells": [
  {
   "cell_type": "code",
   "execution_count": 121,
   "metadata": {
    "collapsed": true
   },
   "outputs": [],
   "source": [
    "import pandas as pd\n",
    "import glob\n",
    "import os"
   ]
  },
  {
   "cell_type": "code",
   "execution_count": 123,
   "outputs": [],
   "source": [
    "# Path to folder with all files\n",
    "path = r'C:\\Users\\evani\\OneDrive\\AI leiden\\Year 2\\Semester 1\\AutoML\\AutoML\\results\\rs bad range'\n",
    "\n",
    "def get_average(path):\n",
    "    li = []\n",
    "    all_files = glob.glob(os.path.join(path , \"*.csv\"))\n",
    "\n",
    "    for filename in all_files:\n",
    "        df = pd.read_csv(filename, index_col=None, header=0)\n",
    "        li.append(df['0'].values)\n",
    "\n",
    "    average = [sum(col) / float(len(col)) for col in zip(*li)]\n",
    "\n",
    "    return average"
   ],
   "metadata": {
    "collapsed": false,
    "pycharm": {
     "name": "#%%\n"
    }
   }
  },
  {
   "cell_type": "code",
   "execution_count": 119,
   "outputs": [],
   "source": [
    "# Put function below here\n",
    "list_df = pd.DataFrame(get_average(path), columns=[\"average loss\"])\n",
    "# Put in location of folder to save file in and change name of file\n",
    "list_df.to_csv(r'C:\\Users\\evani\\OneDrive\\AI leiden\\Year 2\\Semester 1\\AutoML\\AutoML\\results\\test.csv', index=False, decimal=',')"
   ],
   "metadata": {
    "collapsed": false,
    "pycharm": {
     "name": "#%%\n"
    }
   }
  }
 ],
 "metadata": {
  "kernelspec": {
   "display_name": "Python 3",
   "language": "python",
   "name": "python3"
  },
  "language_info": {
   "codemirror_mode": {
    "name": "ipython",
    "version": 2
   },
   "file_extension": ".py",
   "mimetype": "text/x-python",
   "name": "python",
   "nbconvert_exporter": "python",
   "pygments_lexer": "ipython2",
   "version": "2.7.6"
  }
 },
 "nbformat": 4,
 "nbformat_minor": 0
}