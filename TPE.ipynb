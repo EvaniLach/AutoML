{
 "cells": [
  {
   "cell_type": "code",
   "execution_count": 217,
   "id": "5089c11c",
   "metadata": {},
   "outputs": [],
   "source": [
    "import pandas as pd\n",
    "from matplotlib import pyplot as plt\n",
    "from scipy.stats import norm\n",
    "from scipy import stats\n",
    "import seaborn as sns\n",
    "from scipy.stats import truncnorm\n",
    "\n",
    "def tpe(problem, function_evaluations=150, random_warmup=30, gamma=0.2, n=1, **kwargs):\n",
    "\n",
    "    RANGES = GET_RANGES(problem) \n",
    "    \n",
    "    # Initial warm-up using random search\n",
    "    for i in range(random_warmup):\n",
    "        loss,configs=random_search(problem,function_evaluations=100)    \n",
    "\n",
    "    hyper_parameters=pd.DataFrame(columns=[\"configs\",\"loss\"])\n",
    "    hyper_parameters[\"configs\"]=configs\n",
    "    hyper_parameters[\"loss\"]=loss\n",
    "\n",
    "    sorted_loss_df=(hyper_parameters.sort_values(by=[\"loss\"]))\n",
    "    \n",
    "    good_df, bad_df = good_bad(gamma, sorted_loss_df)\n",
    "    \n",
    "    sample(RANGES, good_df, n)\n",
    "    \n",
    "# Function for dividing samples into good and bad dataframes    \n",
    "def good_bad(gamma, df):\n",
    "    \n",
    "    index_value=int(gamma*(df.shape[0]))\n",
    "    good_dataframe = df.iloc[:index_value+1]\n",
    "    bad_dataframe = df.iloc[index_value+1:df.shape[0]]\n",
    "\n",
    "    good_df=(good_dataframe[\"configs\"].apply(pd.Series))\n",
    "    bad_df=(bad_dataframe[\"configs\"].apply(pd.Series))\n",
    "\n",
    "    good_df['loss']=good_dataframe[\"loss\"]\n",
    "    bad_df[\"loss\"]=bad_dataframe[\"loss\"]\n",
    "    \n",
    "    return good_df, bad_df\n",
    "\n",
    "# Function that constructs l(x) and samples from it\n",
    "def sample(RANGES, good_df, n):\n",
    "    \n",
    "    # List for testing samples\n",
    "    samples = []\n",
    "    \n",
    "    for i in RANGES:  \n",
    "        x = good_df[i]\n",
    "        # If categorical, sample uniform\n",
    "        if RANGES[i]['type'] == 0:\n",
    "            sample =  np.random.choice(RANGES[i]['range'])\n",
    "            samples.append(sample)\n",
    "\n",
    "        else:\n",
    "            mean, sd = np.mean(x), np.std(x)\n",
    "            \n",
    "            if(RANGES[i]['sample'] == 0):\n",
    "                l_x = normal_dist(x, mean, sd)\n",
    "            else:\n",
    "                l_x = normal_dist(np.log(x), mean, sd)\n",
    "            # Bounds indicate the truncated gaussians\n",
    "            a,b = -np.inf, np.inf\n",
    "            # Set prob of values x < a or x > b to '0'\n",
    "            l_x[x < a], l_x[x > b] = 0, 0\n",
    "\n",
    "            y_cum = np.cumsum(l_x) / l_x.sum()\n",
    "            # n indicates candidate samples\n",
    "            yrand = np.random.rand(n)\n",
    "            sample = np.interp(yrand, y_cum, x)\n",
    "            samples.append(sample)\n",
    "    # Added all the samples to a list to get some results    \n",
    "    print(samples)"
   ]
  },
  {
   "cell_type": "code",
   "execution_count": 218,
   "id": "23d272a4",
   "metadata": {
    "scrolled": true
   },
   "outputs": [
    {
     "name": "stdout",
     "output_type": "stream",
     "text": [
      "[4, array([3734.74099926]), array([6586.51168397]), array([1492.01384675]), array([3805.64822919]), 'relu', array([0.])]\n"
     ]
    }
   ],
   "source": [
    "# This gives 1 sample per hyperparameter, since I used n=1 for now\n",
    "tpe('bad_range')"
   ]
  },
  {
   "cell_type": "code",
   "execution_count": 216,
   "id": "a638ff1f",
   "metadata": {},
   "outputs": [
    {
     "data": {
      "text/plain": [
       "<AxesSubplot:ylabel='Density'>"
      ]
     },
     "execution_count": 216,
     "metadata": {},
     "output_type": "execute_result"
    },
    {
     "data": {
      "image/png": "[encoded data removed]",
      "text/plain": [
       "<Figure size 432x288 with 1 Axes>"
      ]
     },
     "metadata": {
      "needs_background": "light"
     },
     "output_type": "display_data"
    }
   ],
   "source": [
    "# Below is an example of what the mixture of truncated gaussians looks like for the hyperparameter 'nodes_in_layer_1'\n",
    "# I warmed up and split the dataframe just like before\n",
    "# Then I used the 'normal_dist' function to construct l(x), this gives us the points of the PDF\n",
    "# Apparently dataframes have a built in plot function\n",
    "\n",
    "gamma = 0.2\n",
    "\n",
    "for i in range(random_warmup):\n",
    "    loss,configs=random_search(problem,function_evaluations=100) \n",
    "    \n",
    "hyper_parameters=pd.DataFrame(columns=[\"configs\",\"loss\"])\n",
    "hyper_parameters[\"configs\"]=configs\n",
    "hyper_parameters[\"loss\"]=loss\n",
    "\n",
    "sorted_loss_df=(hyper_parameters.sort_values(by=[\"loss\"]))\n",
    "good_df, bad_df = good_bad(gamma, sorted_loss_df)\n",
    "\n",
    "mean = np.mean(good_df['nodes_in_layer1'])\n",
    "sd = np.std(good_df['nodes_in_layer1'])\n",
    "\n",
    "# Construct l(x)\n",
    "l_x = normal_dist(good_df['nodes_in_layer1'], mean, sd)\n",
    "# Plot PDF of l(x)\n",
    "l_x.plot(kind='density')\n",
    "\n",
    "# The output is as expected: since it is a mixture of truncated gaussians, we do not expect the 'bell curve'.\n",
    "# We instead expect all Gaussians added together."
   ]
  }
 ],
 "metadata": {
  "kernelspec": {
   "display_name": "Python 3 (ipykernel)",
   "language": "python",
   "name": "python3"
  },
  "language_info": {
   "codemirror_mode": {
    "name": "ipython",
    "version": 3
   },
   "file_extension": ".py",
   "mimetype": "text/x-python",
   "name": "python",
   "nbconvert_exporter": "python",
   "pygments_lexer": "ipython3",
   "version": "3.8.8"
  }
 },
 "nbformat": 4,
 "nbformat_minor": 5
}
