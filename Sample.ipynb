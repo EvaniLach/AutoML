{
 "cells": [
  {
   "cell_type": "code",
   "execution_count": 2,
   "metadata": {},
   "outputs": [],
   "source": [
    "from utils import GET_CONFIG_PERFORMANCE, GET_RANGES, SampleType, ParamType # make sure to make use of ParamType and SampleType in your code\n",
    "import numpy as np"
   ]
  },
  {
   "cell_type": "code",
   "execution_count": 111,
   "metadata": {},
   "outputs": [],
   "source": [
    "from distutils.command import config\n",
    "\n",
    "\n",
    "def random_search(problem, function_evaluations=150, **kwargs):\n",
    "    \"\"\"\n",
    "    Function that performs random search on the given problem. It uses the \n",
    "    ranges and sampling types defined in GET_RANGES(problem) (see utils.py).\n",
    "\n",
    "    Arguments:\n",
    "      - problem (str): the problem identifier\n",
    "      - function_evaluations (int): the number of configurations to evaluate\n",
    "      - **kwargs: any other keyword arguments \n",
    "\n",
    "    Returns:\n",
    "      - history (list): A list of the observed losses\n",
    "      - configs (list): A list of the tried configurations. Every configuration is a dictionary\n",
    "                        mapping hyperparameter names to the chosen values \n",
    "    \"\"\"\n",
    "\n",
    "    history = []\n",
    "    configs = []\n",
    "\n",
    "    # get all information about the hyperparameters we want to tune for this problem\n",
    "    # (see utils.py) for the form of this.  \n",
    "    RANGES = GET_RANGES(problem) \n",
    "\n",
    "    print(RANGES)\n",
    "\n",
    "    # example of a hyperparameter configuration. you of course want to change the names and values\n",
    "    # according to the problem and the values you sample\n",
    "    # config = {\n",
    "    #     \"hypername1\": 5, \n",
    "    #     \"hypername2\": 10,\n",
    "    # }\n",
    "\n",
    "    \n",
    "    # once you have a configuration 'config' in the form of a dictionary mapping from \n",
    "    # hyperparameter -> value you can evaluate it using this function\n",
    "    \n",
    "\n",
    "    #print(loss)\n",
    "\n",
    "    # TODO: implement the rest of the function\n",
    "    for j in range(150):\n",
    "      config={}\n",
    "\n",
    "      for i in RANGES:\n",
    "        \n",
    "        if(RANGES[i]['sample']==0):\n",
    "          if('condition' in RANGES[i]):\n",
    "            if(RANGES[i]['condition'](config)):\n",
    "              value=np.random.randint(1,len(RANGES[i][\"range\"]),1)[0]\n",
    "              config[i]=RANGES[i]['range'][value]\n",
    "          else:   \n",
    "            value=np.random.randint(1,len(RANGES[i][\"range\"]),1)[0]\n",
    "            config[i]=RANGES[i]['range'][value]\n",
    "        else:\n",
    "          if('condition' in RANGES[i]):\n",
    "            if(RANGES[i]['condition'](config)):\n",
    "              value=np.random.uniform(np.log(RANGES[i][\"range\"][0]),np.log(RANGES[i][\"range\"][1]),1)[0]\n",
    "        \n",
    "              if(RANGES[i][\"type\"]==2):\n",
    "                value=int(np.exp(value))\n",
    "              config[i]=value\n",
    "          else:\n",
    "            value=np.random.uniform(np.log(RANGES[i][\"range\"][0]),np.log(RANGES[i][\"range\"][1]),1)[0]\n",
    "            if(RANGES[i][\"type\"]==2):\n",
    "                value=int(np.exp(value))\n",
    "            config[i]=value\n",
    "        configs.append(config)\n",
    "        history.append(GET_CONFIG_PERFORMANCE(config))\n",
    "\n",
    "    return history, configs\n",
    "\n",
    "def Sample(sample,len_of_ranges):\n",
    "  if(sample==0):\n",
    "    value=np.random.randint(1,len_of_ranges,1)[0]\n",
    "    return value\n"
   ]
  }
 ],
 "metadata": {
  "kernelspec": {
   "display_name": "Python 3.9.12 ('base')",
   "language": "python",
   "name": "python3"
  },
  "language_info": {
   "codemirror_mode": {
    "name": "ipython",
    "version": 3
   },
   "file_extension": ".py",
   "mimetype": "text/x-python",
   "name": "python",
   "nbconvert_exporter": "python",
   "pygments_lexer": "ipython3",
   "version": "3.9.12"
  },
  "orig_nbformat": 4,
  "vscode": {
   "interpreter": {
    "hash": "56bb3664f9e4c30dd04785352467b9a4f4ae76738ced5664ad6d61764e830ed7"
   }
  }
 },
 "nbformat": 4,
 "nbformat_minor": 2
}
